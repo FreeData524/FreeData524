{
  "metadata": {
    "language_info": {
      "codemirror_mode": {
        "name": "python",
        "version": 3
      },
      "file_extension": ".py",
      "mimetype": "text/x-python",
      "name": "python",
      "nbconvert_exporter": "python",
      "pygments_lexer": "ipython3",
      "version": "3.8"
    },
    "kernelspec": {
      "name": "python",
      "display_name": "Python (Pyodide)",
      "language": "python"
    }
  },
  "nbformat_minor": 4,
  "nbformat": 4,
  "cells": [
    {
      "cell_type": "raw",
      "source": "# Data Science Tools and Ecosystem",
      "metadata": {}
    },
    {
      "cell_type": "raw",
      "source": "## In this notebook, Data Science Tools and Ecosystem are summarized.",
      "metadata": {}
    },
    {
      "cell_type": "raw",
      "source": "**Objectives**\n- Languages for Data Science\n- Libraries for Data Science\n- Jupytr Notebooks and Jupytr Labs\n- Open Source Tools for Data Science\n- GitHub",
      "metadata": {}
    },
    {
      "cell_type": "raw",
      "source": "## Author\n### Paul Freeman",
      "metadata": {}
    },
    {
      "cell_type": "raw",
      "source": "### Some of the popular languages that Data Scientists use are:\n1. Python\n2. R\n3. JavaScript\n4. C++\n5. Julia\n6. Scala\n7. SQL",
      "metadata": {}
    },
    {
      "cell_type": "raw",
      "source": "### Some of the commonly used libraries used by Data Scientists include:\n1. NumPy\n2. Matplotlib\n3. Seaborn\n4. Scikit-learn\n5. Keras\n6. TensorFlow\n7. Pytorch\n8. Apache Spark\n9. Scala",
      "metadata": {}
    },
    {
      "cell_type": "raw",
      "source": "| Data Science Tools |\n| ------------------ |\n| RStudio            |\n| Visual Studio Code |\n| Google Colab       |\n\n",
      "metadata": {}
    },
    {
      "cell_type": "raw",
      "source": "### Below are a few examples of evaluating arithmetic expressions in Python:\n- x = 10 + 5\n- y = 8 / 2\n- n = 6 - 4\n",
      "metadata": {}
    },
    {
      "cell_type": "raw",
      "source": "### This a simple arithmetic expression to mutiply then add integers:\n(3*4)+5",
      "metadata": {}
    },
    {
      "cell_type": "markdown",
      "source": "### This will convert 200 minutes to hours by diving by 60\n200/60",
      "metadata": {}
    }
  ]
}